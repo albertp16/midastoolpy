{
 "cells": [
  {
   "cell_type": "markdown",
   "id": "b07046f8",
   "metadata": {},
   "source": [
    "For Koica Project"
   ]
  },
  {
   "cell_type": "code",
   "execution_count": null,
   "id": "0c0b6c9d",
   "metadata": {},
   "outputs": [],
   "source": [
    "koica = {\n",
    "    \"structure\" : \"concrete\", #[steel,concrete,others]\n",
    "    \"SPT\" : \"sd\", ##Soil Profile Type [Sa,Sb,Sc,Sd,Se,Sf]\n",
    "    \"ZF\" : 0.4, ##Seismic zone factor [0.2,0.4]\n",
    "    \"SST\" : \"A\", ##Seismic source type [A,B,C]\n",
    "    \"CD\" : 20.3, ##closest distance to known seismic factor [float]\n",
    "    \"IF\" : 1, ##importance factor [float]\n",
    "    \"R\" : { ##Response Modification factor\n",
    "                      \"x\" : 8.5,\n",
    "                      \"y\" : 8.5\n",
    "                  },\n",
    "                  \"hn\" : { ##building height\n",
    "                      \"x\" : 20,\n",
    "                      \"y\" : 20\n",
    "                  },\n",
    "                  \"angle\" : {\n",
    "                      \"x\" : 0,\n",
    "                      \"y\" : 90\n",
    "                  },\n",
    "                  'case' : [\"Ex\",\"Ex +\",\"Ex -\",\"Ey\",\"Ey +\",\"Ey -\"],\n",
    "                  'eccentricity' : {\n",
    "                      \"x\" : [\"NONE\",\"POS\",\"NEG\",\"NONE\",\"NONE\",\"NONE\"],\n",
    "                      \"y\" : [\"NONE\",\"NONE\",\"NONE\",\"NONE\",\"POS\",\"NEG\"]\n",
    "                  },\n",
    "                  'acc' : [\"NO\",\"NO\",\"NO\",\"NO\",\"NO\",\"NO\"],\n",
    "                  'inherit' : [\"NO\",\"NO\",\"NO\",\"NO\",\"NO\",\"NO\"]\n",
    "         }'''"
   ]
  },
  {
   "cell_type": "code",
   "execution_count": null,
   "id": "b5ef487c",
   "metadata": {},
   "outputs": [],
   "source": []
  }
 ],
 "metadata": {
  "kernelspec": {
   "display_name": "Python 3 (ipykernel)",
   "language": "python",
   "name": "python3"
  },
  "language_info": {
   "codemirror_mode": {
    "name": "ipython",
    "version": 3
   },
   "file_extension": ".py",
   "mimetype": "text/x-python",
   "name": "python",
   "nbconvert_exporter": "python",
   "pygments_lexer": "ipython3",
   "version": "3.9.13"
  }
 },
 "nbformat": 4,
 "nbformat_minor": 5
}
