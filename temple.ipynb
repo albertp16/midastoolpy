{
 "cells": [
  {
   "cell_type": "code",
   "execution_count": 4,
   "id": "c21a1aa6",
   "metadata": {},
   "outputs": [
    {
     "name": "stdout",
     "output_type": "stream",
     "text": [
      "\n",
      "*PROJINFO    ; Project Information\n",
      "; PROJECT, REVISION, USER, EMAIL, ADDRESS, TEL, FAX, CLIENT, TITLE, ENGINEER, EDATE       ; One Line per Data\n",
      "; CHECK1, CDATE1, CHECK2, CDATE2, CHECK3, CDATE3, APPROVE, ADATE, COMMENT                 ; One Line per Data\n",
      "   PROJECT={{project_name}}\n",
      "   REVISION=revision\n",
      "   USER=albertpamonag@gmail.com\n",
      "   EMAIL=albert\n",
      "   ADDRESS=address\n",
      "   TEL=telephone\n",
      "   CLIENT=client\n",
      "   TITLE=001\n",
      "   ENGINEER=ACP\n",
      "   COMMENT=Project Comments\n",
      "\n"
     ]
    }
   ],
   "source": [
    "\n",
    "project_name = \"test\" \n",
    "\n",
    "output = '''\n",
    "*PROJINFO    ; Project Information\n",
    "; PROJECT, REVISION, USER, EMAIL, ADDRESS, TEL, FAX, CLIENT, TITLE, ENGINEER, EDATE       ; One Line per Data\n",
    "; CHECK1, CDATE1, CHECK2, CDATE2, CHECK3, CDATE3, APPROVE, ADATE, COMMENT                 ; One Line per Data\n",
    "   PROJECT={{project_name}}\n",
    "   REVISION=revision\n",
    "   USER=albertpamonag@gmail.com\n",
    "   EMAIL=albert\n",
    "   ADDRESS=address\n",
    "   TEL=telephone\n",
    "   CLIENT=client\n",
    "   TITLE=001\n",
    "   ENGINEER=ACP\n",
    "   COMMENT=Project Comments\n",
    "'''\n",
    "\n",
    "print(output)"
   ]
  },
  {
   "cell_type": "code",
   "execution_count": null,
   "id": "63b8e5a9",
   "metadata": {},
   "outputs": [],
   "source": []
  },
  {
   "cell_type": "code",
   "execution_count": null,
   "id": "eab0b696",
   "metadata": {},
   "outputs": [],
   "source": []
  }
 ],
 "metadata": {
  "kernelspec": {
   "display_name": "Python 3 (ipykernel)",
   "language": "python",
   "name": "python3"
  },
  "language_info": {
   "codemirror_mode": {
    "name": "ipython",
    "version": 3
   },
   "file_extension": ".py",
   "mimetype": "text/x-python",
   "name": "python",
   "nbconvert_exporter": "python",
   "pygments_lexer": "ipython3",
   "version": "3.9.13"
  }
 },
 "nbformat": 4,
 "nbformat_minor": 5
}
