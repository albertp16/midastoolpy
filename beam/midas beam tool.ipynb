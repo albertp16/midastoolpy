{
 "cells": [
  {
   "cell_type": "markdown",
   "id": "07c35872",
   "metadata": {},
   "source": [
    "# MIDAS BEAM INTERPOLATOR"
   ]
  },
  {
   "cell_type": "code",
   "execution_count": 53,
   "id": "672acbc0",
   "metadata": {
    "scrolled": false
   },
   "outputs": [],
   "source": [
    "import pandas as pd\n",
    "import xlsxwriter #writing excel \n",
    "# read by default 1st sheet of an excel file\n",
    "\n",
    "\n",
    "beamdf = pd.read_excel('reference.xlsx') #Beam data frame in Midas Gen\n",
    "data_length = len(beamdf)\n",
    "\n",
    "no_member = (data_length-2)/3\n",
    "\n",
    "data = []\n",
    "\n",
    "i = 0 \n",
    "while i < no_member:\n",
    "    index = 2 + (3*int(i))\n",
    "    i += 1\n",
    "\n",
    "# Workbook() takes one, non-optional, argument\n",
    "# which is the filename that we want to create.\n",
    "workbook = xlsxwriter.Workbook('test.xlsx')\n",
    " \n",
    "# The workbook object is then used to add new\n",
    "# worksheet via the add_worksheet() method.\n",
    "worksheet = workbook.add_worksheet()\n",
    "\n",
    "merge_format = workbook.add_format(\n",
    "    {\n",
    "        \"bold\": 1,\n",
    "        \"border\": 1,\n",
    "        \"align\": \"center\",\n",
    "        \"valign\": \"vcenter\",\n",
    "        \"fg_color\": \"grey\",\n",
    "    }\n",
    ")\n",
    "\n",
    "# Use the worksheet object to write\n",
    "# data via the write() method.\n",
    "worksheet.merge_range(\"A1:A2\", \"BEAM MARK\", merge_format)\n",
    "worksheet.merge_range(\"B1:C1\", \"BEAM SECTION\", merge_format)\n",
    "worksheet.write('B2', 'WIDTH (W)', merge_format)\n",
    "worksheet.write('C2', 'DEPTH (D)', merge_format)\n",
    "worksheet.merge_range('D1:E2', 'BAR', merge_format)\n",
    "worksheet.merge_range('F1:J1', 'LONGITUDINAL REINFORCEMENT', merge_format)\n",
    "worksheet.write('F2', 'DISCONT \"A\"')\n",
    "worksheet.write('G2', 'CONT \"A\"')\n",
    "worksheet.write('H2', 'MIDSPAN')\n",
    "worksheet.write('I2', 'CONT \"B\"')\n",
    "worksheet.write('J2', 'DISCONT \"B\"')\n",
    "# Finally, close the Excel file\n",
    "# via the close() method.\n",
    "workbook.close()"
   ]
  },
  {
   "cell_type": "code",
   "execution_count": null,
   "id": "b56aa568",
   "metadata": {},
   "outputs": [],
   "source": []
  },
  {
   "cell_type": "code",
   "execution_count": null,
   "id": "0718eb40",
   "metadata": {},
   "outputs": [],
   "source": []
  }
 ],
 "metadata": {
  "kernelspec": {
   "display_name": "Python 3 (ipykernel)",
   "language": "python",
   "name": "python3"
  },
  "language_info": {
   "codemirror_mode": {
    "name": "ipython",
    "version": 3
   },
   "file_extension": ".py",
   "mimetype": "text/x-python",
   "name": "python",
   "nbconvert_exporter": "python",
   "pygments_lexer": "ipython3",
   "version": "3.9.13"
  }
 },
 "nbformat": 4,
 "nbformat_minor": 5
}
