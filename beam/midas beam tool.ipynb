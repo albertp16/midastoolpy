{
 "cells": [
  {
   "cell_type": "markdown",
   "id": "07c35872",
   "metadata": {},
   "source": [
    "# MIDAS BEAM INTERPOLATOR"
   ]
  },
  {
   "cell_type": "code",
   "execution_count": 11,
   "id": "672acbc0",
   "metadata": {},
   "outputs": [
    {
     "name": "stdout",
     "output_type": "stream",
     "text": [
      "0     6\n",
      "1     6\n",
      "2     6\n",
      "3     6\n",
      "4     6\n",
      "5     6\n",
      "6     6\n",
      "7     6\n",
      "8     6\n",
      "9     6\n",
      "10    6\n",
      "11    6\n",
      "Name: Section, dtype: int64\n"
     ]
    }
   ],
   "source": [
    "import pandas as pd\n",
    "df = pd.read_csv(\"beam_ref.csv\")\n",
    "print(df['Section'])\n",
    "## asd"
   ]
  },
  {
   "cell_type": "code",
   "execution_count": null,
   "id": "b56aa568",
   "metadata": {},
   "outputs": [],
   "source": []
  }
 ],
 "metadata": {
  "kernelspec": {
   "display_name": "Python 3 (ipykernel)",
   "language": "python",
   "name": "python3"
  },
  "language_info": {
   "codemirror_mode": {
    "name": "ipython",
    "version": 3
   },
   "file_extension": ".py",
   "mimetype": "text/x-python",
   "name": "python",
   "nbconvert_exporter": "python",
   "pygments_lexer": "ipython3",
   "version": "3.9.13"
  }
 },
 "nbformat": 4,
 "nbformat_minor": 5
}
