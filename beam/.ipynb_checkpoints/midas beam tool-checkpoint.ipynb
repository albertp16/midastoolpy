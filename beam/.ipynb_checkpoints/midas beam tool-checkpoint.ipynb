{
 "cells": [
  {
   "cell_type": "markdown",
   "id": "1cdff7f3",
   "metadata": {},
   "source": [
    "# MIDAS BEAM INTERPOLATOR"
   ]
  },
  {
   "cell_type": "code",
   "execution_count": 8,
   "id": "672acbc0",
   "metadata": {},
   "outputs": [
    {
     "name": "stdout",
     "output_type": "stream",
     "text": [
      "    Section  Sub ID.  i-Top RB1  i-Top RB2 i-Top Name1 i-Top Name2  i-Bot RB1  \\\n",
      "0         6        1          3          0          #8          #8          2   \n",
      "1         6       10          3          2          #8          #8          3   \n",
      "2         6       11          3          3          #8          #8          3   \n",
      "3         6       12          3          2          #8          #8          3   \n",
      "4         6        2          3          1          #8          #8          3   \n",
      "5         6        3          3          1          #8          #8          3   \n",
      "6         6        4          3          3          #8          #8          3   \n",
      "7         6        5          3          2          #8          #8          3   \n",
      "8         6        6          3          1          #8          #8          2   \n",
      "9         6        7          3          1          #8          #8          2   \n",
      "10        6        8          3          2          #8          #8          3   \n",
      "11        6        9          3          2          #8          #8          3   \n",
      "\n",
      "    i-Bot RB2 i-Bot Name1 i-Bot Name2  ...  j-Bot RB2  j-Bot Name1  \\\n",
      "0           0          #8          #8  ...          0           #8   \n",
      "1           0          #8          #8  ...          0           #8   \n",
      "2           0          #8          #8  ...          0           #8   \n",
      "3           1          #8          #8  ...          2           #8   \n",
      "4           0          #8          #8  ...          0           #8   \n",
      "5           0          #8          #8  ...          0           #8   \n",
      "6           0          #8          #8  ...          0           #8   \n",
      "7           0          #8          #8  ...          0           #8   \n",
      "8           0          #8          #8  ...          0           #8   \n",
      "9           0          #8          #8  ...          0           #8   \n",
      "10          0          #8          #8  ...          0           #8   \n",
      "11          0          #8          #8  ...          0           #8   \n",
      "\n",
      "    j-Bot Name2  j-SB Num.  j-SB space (m) j-SK Num. Stirrups  Skin Bar  \\\n",
      "0            #8          2            0.14         0       #4       NaN   \n",
      "1            #8          2            0.10         0       #4       NaN   \n",
      "2            #8          2            0.11         0       #4       NaN   \n",
      "3            #8          2            0.06         0       #4       NaN   \n",
      "4            #8          2            0.09         0       #4       NaN   \n",
      "5            #8          2            0.09         0       #4       NaN   \n",
      "6            #8          2            0.09         0       #4       NaN   \n",
      "7            #8          2            0.12         0       #4       NaN   \n",
      "8            #8          2            0.14         0       #4       NaN   \n",
      "9            #8          2            0.10         0       #4       NaN   \n",
      "10           #8          2            0.12         0       #4       NaN   \n",
      "11           #8          2            0.11         0       #4       NaN   \n",
      "\n",
      "    dT (m) dB (m)  \n",
      "0    0.065  0.065  \n",
      "1    0.065  0.065  \n",
      "2    0.065  0.065  \n",
      "3    0.065  0.065  \n",
      "4    0.065  0.065  \n",
      "5    0.065  0.065  \n",
      "6    0.065  0.065  \n",
      "7    0.065  0.065  \n",
      "8    0.065  0.065  \n",
      "9    0.065  0.065  \n",
      "10   0.065  0.065  \n",
      "11   0.065  0.065  \n",
      "\n",
      "[12 rows x 39 columns]\n"
     ]
    }
   ],
   "source": [
    "import pandas as pd\n",
    "df = pd.read_csv(\"beam_ref.csv\")\n",
    "print(df)\n",
    "## asd"
   ]
  },
  {
   "cell_type": "code",
   "execution_count": null,
   "id": "8c13ca3d",
   "metadata": {},
   "outputs": [],
   "source": []
  }
 ],
 "metadata": {
  "kernelspec": {
   "display_name": "Python 3 (ipykernel)",
   "language": "python",
   "name": "python3"
  },
  "language_info": {
   "codemirror_mode": {
    "name": "ipython",
    "version": 3
   },
   "file_extension": ".py",
   "mimetype": "text/x-python",
   "name": "python",
   "nbconvert_exporter": "python",
   "pygments_lexer": "ipython3",
   "version": "3.9.13"
  }
 },
 "nbformat": 4,
 "nbformat_minor": 5
}
