{
 "cells": [
  {
   "cell_type": "code",
   "execution_count": 1,
   "id": "76e20a33",
   "metadata": {},
   "outputs": [],
   "source": [
    "import static \n",
    "\n",
    "# print(static.generateSampleData())"
   ]
  },
  {
   "cell_type": "code",
   "execution_count": 4,
   "id": "0af67a7c",
   "metadata": {},
   "outputs": [],
   "source": [
    "data = {\n",
    "    \"structure\" : \"concrete\", #[steel,concrete,others]\n",
    "    \"SPT\" : \"sd\", ##Soil Profile Type [Sa,Sb,Sc,Sd,Se,Sf]\n",
    "    \"ZF\" : 0.4, ##Seismic zone factor [0.2,0.4]\n",
    "    \"SST\" : \"A\", ##Seismic source type [A,B,C]\n",
    "    \"CD\" : 2.1, ##closest distance to known seismic factor [float]\n",
    "    \"IF\" : 1, ##importance factor [float]\n",
    "    \"R\" : { ##Response Modification factor\n",
    "            \"x\" : 8.5,\n",
    "            \"y\" : 8.5\n",
    "    },\n",
    "    \"hn\" : { ##building height\n",
    "            \"x\" : 3.6,\n",
    "            \"y\" : 3.6\n",
    "                  },\n",
    "    \"angle\" : {\n",
    "            \"x\" : 112,\n",
    "            \"y\" : 22\n",
    "    },\n",
    "    'case' : [\"Ex\",\"Ex +\",\"Ex -\",\"Ey\",\"Ey +\",\"Ey -\"],\n",
    "    'eccentricity' : {\n",
    "            \"x\" : [\"NONE\",\"POS\",\"NEG\",\"NONE\",\"NONE\",\"NONE\"],\n",
    "            \"y\" : [\"NONE\",\"NONE\",\"NONE\",\"NONE\",\"POS\",\"NEG\"]\n",
    "    },\n",
    "            'acc' : [\"NO\",\"NO\",\"NO\",\"NO\",\"NO\",\"NO\"],\n",
    "            'inherit' : [\"NO\",\"NO\",\"NO\",\"NO\",\"NO\",\"NO\"]\n",
    "    }"
   ]
  },
  {
   "cell_type": "code",
   "execution_count": 5,
   "id": "a9d2a988",
   "metadata": {},
   "outputs": [
    {
     "name": "stdout",
     "output_type": "stream",
     "text": [
      "*USE-STLD, Ex \r\n",
      " *SEIS    ; Static Seismic Loads \r\n",
      " CODE=UBC1997, -0.375 , 0.927, NONE, NONE, NO, NO, , 0 \r\n",
      "         sd, 0.4, A, 2.1, 1, 0.19, 0.19, 8.5, 8.5, 0, 0 \r\n",
      " ; End of data for load case [Ex] -------------------------\";\r\n",
      "*USE-STLD, Ex + \r\n",
      " *SEIS    ; Static Seismic Loads \r\n",
      " CODE=UBC1997, -0.375 , 0.927, POS, NONE, NO, NO, , 0 \r\n",
      "         sd, 0.4, A, 2.1, 1, 0.19, 0.19, 8.5, 8.5, 0, 0 \r\n",
      " ; End of data for load case [Ex +] -------------------------\";\r\n",
      "*USE-STLD, Ex - \r\n",
      " *SEIS    ; Static Seismic Loads \r\n",
      " CODE=UBC1997, -0.375 , 0.927, NEG, NONE, NO, NO, , 0 \r\n",
      "         sd, 0.4, A, 2.1, 1, 0.19, 0.19, 8.5, 8.5, 0, 0 \r\n",
      " ; End of data for load case [Ex -] -------------------------\";\r\n",
      "*USE-STLD, Ey \r\n",
      " *SEIS    ; Static Seismic Loads \r\n",
      " CODE=UBC1997, 0.927 , 0.375, NONE, NONE, NO, NO, , 0 \r\n",
      "         sd, 0.4, A, 2.1, 1, 0.19, 0.19, 8.5, 8.5, 0, 0 \r\n",
      " ; End of data for load case [Ey] -------------------------\";\r\n",
      "*USE-STLD, Ey + \r\n",
      " *SEIS    ; Static Seismic Loads \r\n",
      " CODE=UBC1997, 0.927 , 0.375, NONE, POS, NO, NO, , 0 \r\n",
      "         sd, 0.4, A, 2.1, 1, 0.19, 0.19, 8.5, 8.5, 0, 0 \r\n",
      " ; End of data for load case [Ey +] -------------------------\";\r\n",
      "*USE-STLD, Ey - \r\n",
      " *SEIS    ; Static Seismic Loads \r\n",
      " CODE=UBC1997, 0.927 , 0.375, NONE, NEG, NO, NO, , 0 \r\n",
      "         sd, 0.4, A, 2.1, 1, 0.19, 0.19, 8.5, 8.5, 0, 0 \r\n",
      " ; End of data for load case [Ey -] -------------------------\";\r\n",
      "\n"
     ]
    }
   ],
   "source": [
    "print(static.staticSeismic(data))"
   ]
  },
  {
   "cell_type": "code",
   "execution_count": 2,
   "id": "047c1287",
   "metadata": {},
   "outputs": [],
   "source": [
    "data = {\n",
    "    \"structure\" : \"steel\", #[steel,concrete,others]\n",
    "    \"SPT\" : \"sd\", ##Soil Profile Type [Sa,Sb,Sc,Sd,Se,Sf]\n",
    "    \"ZF\" : 0.4, ##Seismic zone factor [0.2,0.4]\n",
    "    \"SST\" : \"A\", ##Seismic source type [A,B,C]\n",
    "    \"CD\" : 6.6, ##closest distance to known seismic factor [float]\n",
    "    \"IF\" : 1, ##importance factor [float]\n",
    "    \"R\" : { ##Response Modification factor\n",
    "            \"x\" : 8,\n",
    "            \"y\" : 8\n",
    "    },\n",
    "    \"hn\" : { ##building height\n",
    "            \"x\" : 20,\n",
    "            \"y\" : 20\n",
    "                  },\n",
    "    \"angle\" : {\n",
    "            \"x\" : 0,\n",
    "            \"y\" : 90\n",
    "    },\n",
    "    'case' : [\"Ex\",\"Ex +\",\"Ex -\",\"Ey\",\"Ey +\",\"Ey -\"],\n",
    "    'eccentricity' : {\n",
    "            \"x\" : [\"NONE\",\"POS\",\"NEG\",\"NONE\",\"NONE\",\"NONE\"],\n",
    "            \"y\" : [\"NONE\",\"NONE\",\"NONE\",\"NONE\",\"POS\",\"NEG\"]\n",
    "    },\n",
    "            'acc' : [\"NO\",\"NO\",\"NO\",\"NO\",\"NO\",\"NO\"],\n",
    "            'inherit' : [\"NO\",\"NO\",\"NO\",\"NO\",\"NO\",\"NO\"]\n",
    "    }"
   ]
  },
  {
   "cell_type": "code",
   "execution_count": null,
   "id": "adac1513",
   "metadata": {},
   "outputs": [],
   "source": [
    "print(static.staticSeismic(data))"
   ]
  },
  {
   "cell_type": "markdown",
   "id": "d7462f36",
   "metadata": {},
   "source": [
    "### SDS File"
   ]
  },
  {
   "cell_type": "code",
   "execution_count": 13,
   "id": "687ae4a8",
   "metadata": {},
   "outputs": [
    {
     "name": "stdout",
     "output_type": "stream",
     "text": [
      "*USE-STLD, Ex \r\n",
      " *SEIS    ; Static Seismic Loads \r\n",
      " CODE=UBC1997, 1.0 , 0.0, NONE, NONE, NO, NO, , 0 \r\n",
      "         sd, 0.4, A, 6.6, 1, 0.81, 0.81, 8, 8, 0, 0 \r\n",
      " ; End of data for load case [Ex] -------------------------\";\r\n",
      "*USE-STLD, Ex + \r\n",
      " *SEIS    ; Static Seismic Loads \r\n",
      " CODE=UBC1997, 1.0 , 0.0, POS, NONE, NO, NO, , 0 \r\n",
      "         sd, 0.4, A, 6.6, 1, 0.81, 0.81, 8, 8, 0, 0 \r\n",
      " ; End of data for load case [Ex +] -------------------------\";\r\n",
      "*USE-STLD, Ex - \r\n",
      " *SEIS    ; Static Seismic Loads \r\n",
      " CODE=UBC1997, 1.0 , 0.0, NEG, NONE, NO, NO, , 0 \r\n",
      "         sd, 0.4, A, 6.6, 1, 0.81, 0.81, 8, 8, 0, 0 \r\n",
      " ; End of data for load case [Ex -] -------------------------\";\r\n",
      "*USE-STLD, Ey \r\n",
      " *SEIS    ; Static Seismic Loads \r\n",
      " CODE=UBC1997, 0.0 , 1.0, NONE, NONE, NO, NO, , 0 \r\n",
      "         sd, 0.4, A, 6.6, 1, 0.81, 0.81, 8, 8, 0, 0 \r\n",
      " ; End of data for load case [Ey] -------------------------\";\r\n",
      "*USE-STLD, Ey + \r\n",
      " *SEIS    ; Static Seismic Loads \r\n",
      " CODE=UBC1997, 0.0 , 1.0, NONE, POS, NO, NO, , 0 \r\n",
      "         sd, 0.4, A, 6.6, 1, 0.81, 0.81, 8, 8, 0, 0 \r\n",
      " ; End of data for load case [Ey +] -------------------------\";\r\n",
      "*USE-STLD, Ey - \r\n",
      " *SEIS    ; Static Seismic Loads \r\n",
      " CODE=UBC1997, 0.0 , 1.0, NONE, NEG, NO, NO, , 0 \r\n",
      "         sd, 0.4, A, 6.6, 1, 0.81, 0.81, 8, 8, 0, 0 \r\n",
      " ; End of data for load case [Ey -] -------------------------\";\r\n",
      "\n"
     ]
    }
   ],
   "source": [
    "print(static.staticSeismic(data))"
   ]
  },
  {
   "cell_type": "code",
   "execution_count": 14,
   "id": "c221a7c4",
   "metadata": {
    "scrolled": true
   },
   "outputs": [
    {
     "name": "stdout",
     "output_type": "stream",
     "text": [
      "\n",
      "*SGSw\n",
      "*TITLE, Earthquake Record\n",
      "*TITLE, \n",
      "*X-AXIS, Time (sec)\n",
      "*Y-AXIS, Ground Accel. (g)\n",
      "*UNIT&TYPE, GRAV, ACCEL\n",
      "*FLAGS, 0, 0\n",
      "*DATA\n",
      "\n",
      "*ENDDATA\n",
      "\n"
     ]
    }
   ],
   "source": [
    "## Generator SDS import file \n",
    "\n",
    "sds_string = ''\n",
    "sds_string += \"\"\"\n",
    "*SGSw\n",
    "*TITLE, Earthquake Record\n",
    "*TITLE, \n",
    "*X-AXIS, Time (sec)\n",
    "*Y-AXIS, Ground Accel. (g)\n",
    "*UNIT&TYPE, GRAV, ACCEL\n",
    "*FLAGS, 0, 0\n",
    "*DATA\n",
    "\"\"\"\n",
    "\n",
    "sds_string += \"\"\"\n",
    "*ENDDATA\n",
    "\"\"\"\n",
    "\n",
    "print(sds_string)"
   ]
  },
  {
   "cell_type": "code",
   "execution_count": null,
   "id": "47fe7308",
   "metadata": {},
   "outputs": [],
   "source": []
  },
  {
   "cell_type": "code",
   "execution_count": null,
   "id": "95121d1e",
   "metadata": {},
   "outputs": [],
   "source": []
  }
 ],
 "metadata": {
  "kernelspec": {
   "display_name": "Python 3 (ipykernel)",
   "language": "python",
   "name": "python3"
  },
  "language_info": {
   "codemirror_mode": {
    "name": "ipython",
    "version": 3
   },
   "file_extension": ".py",
   "mimetype": "text/x-python",
   "name": "python",
   "nbconvert_exporter": "python",
   "pygments_lexer": "ipython3",
   "version": "3.9.13"
  }
 },
 "nbformat": 4,
 "nbformat_minor": 5
}
