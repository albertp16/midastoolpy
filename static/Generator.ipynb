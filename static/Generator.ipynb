{
 "cells": [
  {
   "cell_type": "code",
   "execution_count": 1,
   "id": "bb6e4532",
   "metadata": {},
   "outputs": [],
   "source": [
    "import static \n",
    "\n",
    "# print(static.generateSampleData())"
   ]
  },
  {
   "cell_type": "code",
   "execution_count": 18,
   "id": "737d451e",
   "metadata": {},
   "outputs": [],
   "source": [
    "data = {\n",
    "    \"structure\" : \"steel\", #[steel,concrete,others]\n",
    "    \"SPT\" : \"Sc\", ##Soil Profile Type [Sa,Sb,Sc,Sd,Se,Sf]\n",
    "    \"ZF\" : 0.4, ##Seismic zone factor [0.2,0.4]\n",
    "    \"SST\" : \"A\", ##Seismic source type [A,B,C] \n",
    "    \"CD\" : 6.3, ##closest distance to known seismic factor [float]\n",
    "    \"IF\" : 1, ##importance factor [float]\n",
    "    \"R\" : { ##Response Modification factor\n",
    "            \"x\" : 2.9,\n",
    "            \"y\" : 2.9\n",
    "    },\n",
    "    \"hn\" : { ##building height\n",
    "            \"x\" : 1.5,\n",
    "            \"y\" : 1.5\n",
    "                  },\n",
    "    \"angle\" : {\n",
    "            \"x\" : 0,\n",
    "            \"y\" : 90\n",
    "    },\n",
    "    'case' : [\"Ex\",\"Ex +\",\"Ex -\",\"Ey\",\"Ey +\",\"Ey -\"],\n",
    "    'eccentricity' : {\n",
    "            \"x\" : [\"NONE\",\"POS\",\"NEG\",\"NONE\",\"NONE\",\"NONE\"],\n",
    "            \"y\" : [\"NONE\",\"NONE\",\"NONE\",\"NONE\",\"POS\",\"NEG\"]\n",
    "    },\n",
    "            'acc' : [\"NO\",\"NO\",\"NO\",\"NO\",\"NO\",\"NO\"],\n",
    "            'inherit' : [\"NO\",\"NO\",\"NO\",\"NO\",\"NO\",\"NO\"]\n",
    "    }"
   ]
  },
  {
   "cell_type": "code",
   "execution_count": 16,
   "id": "e70b211b",
   "metadata": {},
   "outputs": [
    {
     "name": "stdout",
     "output_type": "stream",
     "text": [
      "*USE-STLD, Ex \r\n",
      " *SEIS    ; Static Seismic Loads \r\n",
      " CODE=UBC1997, 1.0 , 0.0, NONE, NONE, NO, NO, , 0 \r\n",
      "         Sc, 0.4, A, 6.3, 1, 0.12, 0.12, 2.9, 2.9, 0, 0 \r\n",
      " ; End of data for load case [Ex] -------------------------\";\r\n",
      "*USE-STLD, Ex + \r\n",
      " *SEIS    ; Static Seismic Loads \r\n",
      " CODE=UBC1997, 1.0 , 0.0, POS, NONE, NO, NO, , 0 \r\n",
      "         Sc, 0.4, A, 6.3, 1, 0.12, 0.12, 2.9, 2.9, 0, 0 \r\n",
      " ; End of data for load case [Ex +] -------------------------\";\r\n",
      "*USE-STLD, Ex - \r\n",
      " *SEIS    ; Static Seismic Loads \r\n",
      " CODE=UBC1997, 1.0 , 0.0, NEG, NONE, NO, NO, , 0 \r\n",
      "         Sc, 0.4, A, 6.3, 1, 0.12, 0.12, 2.9, 2.9, 0, 0 \r\n",
      " ; End of data for load case [Ex -] -------------------------\";\r\n",
      "*USE-STLD, Ey \r\n",
      " *SEIS    ; Static Seismic Loads \r\n",
      " CODE=UBC1997, 0.0 , 1.0, NONE, NONE, NO, NO, , 0 \r\n",
      "         Sc, 0.4, A, 6.3, 1, 0.12, 0.12, 2.9, 2.9, 0, 0 \r\n",
      " ; End of data for load case [Ey] -------------------------\";\r\n",
      "*USE-STLD, Ey + \r\n",
      " *SEIS    ; Static Seismic Loads \r\n",
      " CODE=UBC1997, 0.0 , 1.0, NONE, POS, NO, NO, , 0 \r\n",
      "         Sc, 0.4, A, 6.3, 1, 0.12, 0.12, 2.9, 2.9, 0, 0 \r\n",
      " ; End of data for load case [Ey +] -------------------------\";\r\n",
      "*USE-STLD, Ey - \r\n",
      " *SEIS    ; Static Seismic Loads \r\n",
      " CODE=UBC1997, 0.0 , 1.0, NONE, NEG, NO, NO, , 0 \r\n",
      "         Sc, 0.4, A, 6.3, 1, 0.12, 0.12, 2.9, 2.9, 0, 0 \r\n",
      " ; End of data for load case [Ey -] -------------------------\";\r\n",
      "\n"
     ]
    }
   ],
   "source": [
    "print(static.staticSeismic(data))"
   ]
  },
  {
   "cell_type": "code",
   "execution_count": 12,
   "id": "4595b976",
   "metadata": {},
   "outputs": [
    {
     "ename": "ModuleNotFoundError",
     "evalue": "No module named 'NSCP_2015'",
     "output_type": "error",
     "traceback": [
      "\u001b[1;31m---------------------------------------------------------------------------\u001b[0m",
      "\u001b[1;31mModuleNotFoundError\u001b[0m                       Traceback (most recent call last)",
      "\u001b[1;32m~\\AppData\\Local\\Temp\\ipykernel_25232\\1991235277.py\u001b[0m in \u001b[0;36m<module>\u001b[1;34m\u001b[0m\n\u001b[0;32m      6\u001b[0m \u001b[1;31m# adding Folder_2/subfolder to the system path\u001b[0m\u001b[1;33m\u001b[0m\u001b[1;33m\u001b[0m\u001b[0m\n\u001b[0;32m      7\u001b[0m \u001b[1;31m# sys.path.insert(0, '/Users/alber/OneDrive/Desktop/testing/seismicpy/NSCP_2015.py')\u001b[0m\u001b[1;33m\u001b[0m\u001b[1;33m\u001b[0m\u001b[0m\n\u001b[1;32m----> 8\u001b[1;33m \u001b[1;32mimport\u001b[0m \u001b[0mNSCP_2015\u001b[0m \u001b[1;32mas\u001b[0m \u001b[0mNSCP\u001b[0m\u001b[1;33m\u001b[0m\u001b[1;33m\u001b[0m\u001b[0m\n\u001b[0m\u001b[0;32m      9\u001b[0m \u001b[1;32mdef\u001b[0m \u001b[0mgenerate\u001b[0m\u001b[1;33m(\u001b[0m\u001b[0mca\u001b[0m\u001b[1;33m,\u001b[0m\u001b[0mcv\u001b[0m\u001b[1;33m,\u001b[0m\u001b[0mR\u001b[0m\u001b[1;33m)\u001b[0m\u001b[1;33m:\u001b[0m\u001b[1;33m\u001b[0m\u001b[1;33m\u001b[0m\u001b[0m\n\u001b[0;32m     10\u001b[0m \u001b[1;33m\u001b[0m\u001b[0m\n",
      "\u001b[1;31mModuleNotFoundError\u001b[0m: No module named 'NSCP_2015'"
     ]
    }
   ],
   "source": [
    "## Generator SDS import file \n",
    "# importing sys\n",
    "import sys\n",
    "sys.path.append('/.../testing/seismicpy/NSCP_2015')\n",
    " \n",
    "# adding Folder_2/subfolder to the system path\n",
    "# sys.path.insert(0, '/Users/alber/OneDrive/Desktop/testing/seismicpy/NSCP_2015.py')\n",
    "import NSCP_2015 as NSCP\n",
    "def generate(ca,cv,R):\n",
    "      \n",
    "    data = NSCP.rsCurve(ca,cv,R)  \n",
    "    fig, ax = plt.subplots(figsize=(10,10))\n",
    "    ax.plot(data['elastic']['x'], data['elastic']['y'], label = \"NSCP 2015\")\n",
    "    \n",
    "    ax.set(xlabel=\"Period (sec)\", ylabel=\"Spectral Acceleration (Sa)\",\n",
    "            title= \"Design Response Spectra\")\n",
    "    ax.grid()\n",
    "    plt.legend()\n",
    "    plt.show()    \n",
    "# sds_string = ''\n",
    "# sds_string += \n",
    "# '''\n",
    "# *SGSw\n",
    "# *TITLE, Earthquake Record\n",
    "# *TITLE, \n",
    "# *X-AXIS, Time (sec)\n",
    "# *Y-AXIS, Ground Accel. (g)\n",
    "# *UNIT&TYPE, GRAV, ACCEL\n",
    "# *FLAGS, 0, 0\n",
    "# *DATA\n",
    "# '''\n",
    "\n",
    "# sds_string += \n",
    "# '''\n",
    "# *ENDDATA\n",
    "# '''"
   ]
  },
  {
   "cell_type": "code",
   "execution_count": null,
   "id": "29763693",
   "metadata": {},
   "outputs": [],
   "source": []
  }
 ],
 "metadata": {
  "kernelspec": {
   "display_name": "Python 3 (ipykernel)",
   "language": "python",
   "name": "python3"
  },
  "language_info": {
   "codemirror_mode": {
    "name": "ipython",
    "version": 3
   },
   "file_extension": ".py",
   "mimetype": "text/x-python",
   "name": "python",
   "nbconvert_exporter": "python",
   "pygments_lexer": "ipython3",
   "version": "3.9.13"
  }
 },
 "nbformat": 4,
 "nbformat_minor": 5
}
