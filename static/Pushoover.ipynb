{
 "cells": [
  {
   "cell_type": "code",
   "execution_count": 1,
   "id": "8ba9f7ac",
   "metadata": {},
   "outputs": [],
   "source": [
    "def concreteCore(length, cover, stirrup):\n",
    "    return length - (2 * cover) - (2 * stirrup);\n",
    "\n",
    "def clearTranverse(length, cover, stirrup, nbars, diameter, i_value): \n",
    "    return (length - (2 * cover) - (2 * stirrup) - (nbars * diameter)) / i_value\n",
    "\n",
    "def clearHoopSpace(spacing,dia):\n",
    "    return spacing - dia"
   ]
  },
  {
   "cell_type": "code",
   "execution_count": 6,
   "id": "ccd910bf",
   "metadata": {},
   "outputs": [
    {
     "name": "stdout",
     "output_type": "stream",
     "text": [
      "Bh = 446\n",
      "Wyi = 115.33333333333333\n"
     ]
    }
   ],
   "source": [
    "##C1 \n",
    "length = 550\n",
    "cover = 40\n",
    "stirrup = 12\n",
    "nbars = 4\n",
    "diameter = 25\n",
    "i_value = 3\n",
    "print(\"Bh = \" + str(concreteCore(length, cover, stirrup)))\n",
    "print(\"Wyi = \" + str(clearTranverse(length, cover, stirrup, nbars, diameter, i_value)))"
   ]
  },
  {
   "cell_type": "code",
   "execution_count": 3,
   "id": "bfd69393",
   "metadata": {},
   "outputs": [
    {
     "name": "stdout",
     "output_type": "stream",
     "text": [
      "Bh = 450\n",
      "Wyi = 390.0\n"
     ]
    }
   ],
   "source": [
    "##C2 \n",
    "length = 550\n",
    "cover = 40\n",
    "stirrup = 10\n",
    "nbars = 3\n",
    "diameter = 20\n",
    "i_value = 1\n",
    "print(\"Bh = \" + str(concreteCore(length, cover, stirrup)))\n",
    "print(\"Wyi = \" + str(clearTranverse(length, cover, stirrup, nbars, diameter, i_value)))"
   ]
  },
  {
   "cell_type": "code",
   "execution_count": 4,
   "id": "384c8cf7",
   "metadata": {},
   "outputs": [
    {
     "name": "stdout",
     "output_type": "stream",
     "text": [
      "Bh = 450\n",
      "Wyi = 123.33333333333333\n"
     ]
    }
   ],
   "source": [
    "##C3 \n",
    "length = 550\n",
    "cover = 40\n",
    "stirrup = 10\n",
    "nbars = 4\n",
    "diameter = 20\n",
    "i_value = 3\n",
    "print(\"Bh = \" + str(concreteCore(length, cover, stirrup)))\n",
    "print(\"Wyi = \" + str(clearTranverse(length, cover, stirrup, nbars, diameter, i_value)))"
   ]
  },
  {
   "cell_type": "code",
   "execution_count": 5,
   "id": "51f9acc7",
   "metadata": {},
   "outputs": [
    {
     "name": "stdout",
     "output_type": "stream",
     "text": [
      "Bh = 450\n",
      "Wyi = 128.66666666666666\n"
     ]
    }
   ],
   "source": [
    "##C4 (550)\n",
    "length = 550\n",
    "cover = 40\n",
    "stirrup = 10\n",
    "nbars = 4\n",
    "diameter = 16\n",
    "i_value = 3\n",
    "print(\"Bh = \" + str(concreteCore(length, cover, stirrup)))\n",
    "print(\"Wyi = \" + str(clearTranverse(length, cover, stirrup, nbars, diameter, i_value)))"
   ]
  },
  {
   "cell_type": "code",
   "execution_count": 18,
   "id": "2bfcb75c",
   "metadata": {},
   "outputs": [
    {
     "name": "stdout",
     "output_type": "stream",
     "text": [
      "Bh = 300\n",
      "Wyi = 252.0\n"
     ]
    }
   ],
   "source": [
    "##C4 (400)\n",
    "length = 400\n",
    "cover = 40\n",
    "stirrup = 10\n",
    "nbars = 3\n",
    "diameter = 16\n",
    "i_value = 1\n",
    "print(\"Bh = \" + str(concreteCore(length, cover, stirrup)))\n",
    "print(\"Wyi = \" + str(clearTranverse(length, cover, stirrup, nbars, diameter, i_value)))"
   ]
  },
  {
   "cell_type": "code",
   "execution_count": null,
   "id": "5133839c",
   "metadata": {},
   "outputs": [],
   "source": []
  }
 ],
 "metadata": {
  "kernelspec": {
   "display_name": "Python 3 (ipykernel)",
   "language": "python",
   "name": "python3"
  },
  "language_info": {
   "codemirror_mode": {
    "name": "ipython",
    "version": 3
   },
   "file_extension": ".py",
   "mimetype": "text/x-python",
   "name": "python",
   "nbconvert_exporter": "python",
   "pygments_lexer": "ipython3",
   "version": "3.9.13"
  }
 },
 "nbformat": 4,
 "nbformat_minor": 5
}
