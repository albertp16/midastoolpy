{
 "cells": [
  {
   "cell_type": "code",
   "execution_count": null,
   "id": "1b740639",
   "metadata": {},
   "outputs": [],
   "source": [
    "def concreteCore(length, cover, stirrup):\n",
    "    return length - (2 * cover) - (2 * stirrup);\n",
    "\n",
    "def clearTranverse(length, cover:, stirrup, nbars, diameter, i_value): \n",
    "    return (length - (2 * cover) - (2 * stirrup) - (nbars * diameter) / i_value)"
   ]
  }
 ],
 "metadata": {
  "kernelspec": {
   "display_name": "Python 3 (ipykernel)",
   "language": "python",
   "name": "python3"
  },
  "language_info": {
   "codemirror_mode": {
    "name": "ipython",
    "version": 3
   },
   "file_extension": ".py",
   "mimetype": "text/x-python",
   "name": "python",
   "nbconvert_exporter": "python",
   "pygments_lexer": "ipython3",
   "version": "3.9.13"
  }
 },
 "nbformat": 4,
 "nbformat_minor": 5
}
